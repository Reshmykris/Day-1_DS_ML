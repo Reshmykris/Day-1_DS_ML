{
  "nbformat": 4,
  "nbformat_minor": 0,
  "metadata": {
    "colab": {
      "name": "Day1_DS_ML.ipynb",
      "provenance": [],
      "authorship_tag": "ABX9TyMw29IJ0JAMuboFTRnlGIHk",
      "include_colab_link": true
    },
    "kernelspec": {
      "name": "python3",
      "display_name": "Python 3"
    },
    "language_info": {
      "name": "python"
    }
  },
  "cells": [
    {
      "cell_type": "markdown",
      "metadata": {
        "id": "view-in-github",
        "colab_type": "text"
      },
      "source": [
        "<a href=\"https://colab.research.google.com/github/Reshmykris/Day-1_DS_ML/blob/main/Day1_DS_ML.ipynb\" target=\"_parent\"><img src=\"https://colab.research.google.com/assets/colab-badge.svg\" alt=\"Open In Colab\"/></a>"
      ]
    },
    {
      "cell_type": "code",
      "metadata": {
        "id": "tSrpgS99YvB9"
      },
      "source": [
        ""
      ],
      "execution_count": null,
      "outputs": []
    },
    {
      "cell_type": "code",
      "metadata": {
        "id": "vZ1JPPBT1f23"
      },
      "source": [
        ""
      ],
      "execution_count": null,
      "outputs": []
    },
    {
      "cell_type": "markdown",
      "metadata": {
        "id": "8kKV_kGQcS-f"
      },
      "source": [
        "### **Implementing Numpy using python programming"
      ]
    },
    {
      "cell_type": "code",
      "metadata": {
        "id": "2qFEOFKSchCQ"
      },
      "source": [
        "#importing libaries"
      ],
      "execution_count": null,
      "outputs": []
    },
    {
      "cell_type": "code",
      "metadata": {
        "colab": {
          "base_uri": "https://localhost:8080/"
        },
        "id": "WdKqNSh9cqiw",
        "outputId": "fd240ece-9adf-43d4-aa88-8b01d5cd5aa0"
      },
      "source": [
        "import numpy as np\n",
        "\n",
        "a = [1,2,3,4]  #list1\n",
        "arr1 = np.array(a)\n",
        "print(arr1)\n",
        "\n",
        "\n",
        "b = [[1,2,3,4], [6,7,8,9]]   # list2\n",
        "\n",
        "arr2 = np.array(b)\n",
        "print(arr2)\n"
      ],
      "execution_count": null,
      "outputs": [
        {
          "output_type": "stream",
          "text": [
            "[1 2 3 4]\n",
            "[[1 2 3 4]\n",
            " [6 7 8 9]]\n"
          ],
          "name": "stdout"
        }
      ]
    },
    {
      "cell_type": "code",
      "metadata": {
        "colab": {
          "base_uri": "https://localhost:8080/",
          "height": 346
        },
        "id": "h0xv78X1dn5_",
        "outputId": "2ad4bc6f-e357-40fc-f4a5-2099ded5bdf4"
      },
      "source": [
        "import numpy as np\n",
        "import sys\n",
        "s =np.range(1000)\n",
        "print(\"Size of each elt np arr in bytes\", s.itemsize)\n",
        "print(\"Size of whole arr in bytes\", s.size*s.itemsize)\n",
        "\n"
      ],
      "execution_count": null,
      "outputs": [
        {
          "output_type": "error",
          "ename": "AttributeError",
          "evalue": "ignored",
          "traceback": [
            "\u001b[0;31m---------------------------------------------------------------------------\u001b[0m",
            "\u001b[0;31mAttributeError\u001b[0m                            Traceback (most recent call last)",
            "\u001b[0;32m<ipython-input-7-c93dae795805>\u001b[0m in \u001b[0;36m<module>\u001b[0;34m()\u001b[0m\n\u001b[1;32m      1\u001b[0m \u001b[0;32mimport\u001b[0m \u001b[0mnumpy\u001b[0m \u001b[0;32mas\u001b[0m \u001b[0mnp\u001b[0m\u001b[0;34m\u001b[0m\u001b[0;34m\u001b[0m\u001b[0m\n\u001b[1;32m      2\u001b[0m \u001b[0;32mimport\u001b[0m \u001b[0msys\u001b[0m\u001b[0;34m\u001b[0m\u001b[0;34m\u001b[0m\u001b[0m\n\u001b[0;32m----> 3\u001b[0;31m \u001b[0ms\u001b[0m \u001b[0;34m=\u001b[0m\u001b[0mnp\u001b[0m\u001b[0;34m.\u001b[0m\u001b[0mrange\u001b[0m\u001b[0;34m(\u001b[0m\u001b[0;36m1000\u001b[0m\u001b[0;34m)\u001b[0m\u001b[0;34m\u001b[0m\u001b[0;34m\u001b[0m\u001b[0m\n\u001b[0m\u001b[1;32m      4\u001b[0m \u001b[0mprint\u001b[0m\u001b[0;34m(\u001b[0m\u001b[0;34m\"Size of each elt np arr in bytes\"\u001b[0m\u001b[0;34m,\u001b[0m \u001b[0ms\u001b[0m\u001b[0;34m.\u001b[0m\u001b[0mitemsize\u001b[0m\u001b[0;34m)\u001b[0m\u001b[0;34m\u001b[0m\u001b[0;34m\u001b[0m\u001b[0m\n\u001b[1;32m      5\u001b[0m \u001b[0mprint\u001b[0m\u001b[0;34m(\u001b[0m\u001b[0;34m\"Size of whole arr in bytes\"\u001b[0m\u001b[0;34m,\u001b[0m \u001b[0ms\u001b[0m\u001b[0;34m.\u001b[0m\u001b[0msize\u001b[0m\u001b[0;34m*\u001b[0m\u001b[0ms\u001b[0m\u001b[0;34m.\u001b[0m\u001b[0mitemsize\u001b[0m\u001b[0;34m)\u001b[0m\u001b[0;34m\u001b[0m\u001b[0;34m\u001b[0m\u001b[0m\n",
            "\u001b[0;32m/usr/local/lib/python3.7/dist-packages/numpy/__init__.py\u001b[0m in \u001b[0;36m__getattr__\u001b[0;34m(attr)\u001b[0m\n\u001b[1;32m    213\u001b[0m             \u001b[0;32melse\u001b[0m\u001b[0;34m:\u001b[0m\u001b[0;34m\u001b[0m\u001b[0;34m\u001b[0m\u001b[0m\n\u001b[1;32m    214\u001b[0m                 raise AttributeError(\"module {!r} has no attribute \"\n\u001b[0;32m--> 215\u001b[0;31m                                      \"{!r}\".format(__name__, attr))\n\u001b[0m\u001b[1;32m    216\u001b[0m \u001b[0;34m\u001b[0m\u001b[0m\n\u001b[1;32m    217\u001b[0m         \u001b[0;32mdef\u001b[0m \u001b[0m__dir__\u001b[0m\u001b[0;34m(\u001b[0m\u001b[0;34m)\u001b[0m\u001b[0;34m:\u001b[0m\u001b[0;34m\u001b[0m\u001b[0;34m\u001b[0m\u001b[0m\n",
            "\u001b[0;31mAttributeError\u001b[0m: module 'numpy' has no attribute 'range'"
          ]
        }
      ]
    },
    {
      "cell_type": "code",
      "metadata": {
        "colab": {
          "base_uri": "https://localhost:8080/"
        },
        "id": "VKEFBfouepuH",
        "outputId": "7725e4b6-8cd5-4b7c-8c55-b6091220fbc1"
      },
      "source": [
        "import numpy as np\n",
        "import time\n",
        "a = range(10000)\n",
        "b = range(10000)\n",
        "\n",
        "start = time.time() #mark the start time\n",
        "\n",
        "# List comprehension (multiply each elt of a & b)\n",
        "\n",
        "ab = [(a*b) for a,b in zip(a,b)]\n",
        "\n",
        "end=time.time() #mark the end time\n",
        "\n",
        "print(\"tot time taken:\", end-start)\n",
        "\n"
      ],
      "execution_count": null,
      "outputs": [
        {
          "output_type": "stream",
          "text": [
            "tot time taken: 0.0029532909393310547\n"
          ],
          "name": "stdout"
        }
      ]
    },
    {
      "cell_type": "code",
      "metadata": {
        "colab": {
          "base_uri": "https://localhost:8080/"
        },
        "id": "QH8OtZVQfnoR",
        "outputId": "b096a126-d27b-497b-e027-2fc97a2e7eb2"
      },
      "source": [
        "import numpy as np\n",
        "\n",
        "arr3 = np.array([[1,2,3], [3,6,9]], ndmin=2) #2D np array\n",
        "\n",
        "print(arr3)"
      ],
      "execution_count": null,
      "outputs": [
        {
          "output_type": "stream",
          "text": [
            "[[1 2 3]\n",
            " [3 6 9]]\n"
          ],
          "name": "stdout"
        }
      ]
    },
    {
      "cell_type": "code",
      "metadata": {
        "colab": {
          "base_uri": "https://localhost:8080/"
        },
        "id": "2FuNoyHhgNfo",
        "outputId": "67332559-d4e5-4aa3-8074-0ba07b068c50"
      },
      "source": [
        "arr4 = np.array([[1,2,3,], [4,5,6]])\n",
        "print(arr4.dtype)\n",
        "print(arr4.ndim)\n",
        "print(arr4.shape)\n",
        "print(arr4.size)"
      ],
      "execution_count": null,
      "outputs": [
        {
          "output_type": "stream",
          "text": [
            "int64\n",
            "2\n",
            "(2, 3)\n",
            "6\n"
          ],
          "name": "stdout"
        }
      ]
    },
    {
      "cell_type": "code",
      "metadata": {
        "colab": {
          "base_uri": "https://localhost:8080/"
        },
        "id": "60AJ6tlagyj-",
        "outputId": "0544e466-f1fb-4766-e01d-de94c34c3790"
      },
      "source": [
        "z = np.zeros((2,4))\n",
        "print(z)"
      ],
      "execution_count": null,
      "outputs": [
        {
          "output_type": "stream",
          "text": [
            "[[0. 0. 0. 0.]\n",
            " [0. 0. 0. 0.]]\n"
          ],
          "name": "stdout"
        }
      ]
    },
    {
      "cell_type": "code",
      "metadata": {
        "colab": {
          "base_uri": "https://localhost:8080/"
        },
        "id": "emaDrB1ShDyb",
        "outputId": "8f80ebd5-3d83-4528-a3b2-c2ac34957fa1"
      },
      "source": [
        "import numpy as np\n",
        "c = np.arange(3,10,2)   #if range() throws error, use arange()\n",
        "print(c)\n",
        "print(type(c))"
      ],
      "execution_count": null,
      "outputs": [
        {
          "output_type": "stream",
          "text": [
            "[3 5 7 9]\n",
            "<class 'numpy.ndarray'>\n"
          ],
          "name": "stdout"
        }
      ]
    },
    {
      "cell_type": "code",
      "metadata": {
        "colab": {
          "base_uri": "https://localhost:8080/"
        },
        "id": "gXXiQM4CiRk-",
        "outputId": "5557c018-9868-434c-b267-77da1da2642c"
      },
      "source": [
        "a = [1,2,3,4]\n",
        "b=np.array(a)\n",
        "print(b)"
      ],
      "execution_count": null,
      "outputs": [
        {
          "output_type": "stream",
          "text": [
            "[1 2 3 4]\n"
          ],
          "name": "stdout"
        }
      ]
    },
    {
      "cell_type": "code",
      "metadata": {
        "colab": {
          "base_uri": "https://localhost:8080/",
          "height": 212
        },
        "id": "HAwvKW7giZy2",
        "outputId": "180dfc8f-2db2-4e8b-bce3-d621e8b95c3c"
      },
      "source": [
        "#slicing - Creating substrings from the main string\n",
        "\n",
        "#indexing - Getting the value from a specific index position, or from lower range to upper range\n",
        "\n",
        "#range(lower, Upper+1) - 0-10 mention as(0,11)\n",
        "\n",
        "print(b[3])\n",
        "\n",
        "b[5]\n"
      ],
      "execution_count": null,
      "outputs": [
        {
          "output_type": "stream",
          "text": [
            "4\n"
          ],
          "name": "stdout"
        },
        {
          "output_type": "error",
          "ename": "IndexError",
          "evalue": "ignored",
          "traceback": [
            "\u001b[0;31m---------------------------------------------------------------------------\u001b[0m",
            "\u001b[0;31mIndexError\u001b[0m                                Traceback (most recent call last)",
            "\u001b[0;32m<ipython-input-22-7e16115b3dc5>\u001b[0m in \u001b[0;36m<module>\u001b[0;34m()\u001b[0m\n\u001b[1;32m      7\u001b[0m \u001b[0mprint\u001b[0m\u001b[0;34m(\u001b[0m\u001b[0mb\u001b[0m\u001b[0;34m[\u001b[0m\u001b[0;36m3\u001b[0m\u001b[0;34m]\u001b[0m\u001b[0;34m)\u001b[0m\u001b[0;34m\u001b[0m\u001b[0;34m\u001b[0m\u001b[0m\n\u001b[1;32m      8\u001b[0m \u001b[0;34m\u001b[0m\u001b[0m\n\u001b[0;32m----> 9\u001b[0;31m \u001b[0mb\u001b[0m\u001b[0;34m[\u001b[0m\u001b[0;36m5\u001b[0m\u001b[0;34m]\u001b[0m\u001b[0;34m\u001b[0m\u001b[0;34m\u001b[0m\u001b[0m\n\u001b[0m",
            "\u001b[0;31mIndexError\u001b[0m: index 5 is out of bounds for axis 0 with size 4"
          ]
        }
      ]
    },
    {
      "cell_type": "code",
      "metadata": {
        "colab": {
          "base_uri": "https://localhost:8080/"
        },
        "id": "PZAwWpedi9vc",
        "outputId": "84fdb794-6af2-4a28-fc10-d801b539a3c2"
      },
      "source": [
        "b[2]"
      ],
      "execution_count": null,
      "outputs": [
        {
          "output_type": "execute_result",
          "data": {
            "text/plain": [
              "3"
            ]
          },
          "metadata": {
            "tags": []
          },
          "execution_count": 23
        }
      ]
    },
    {
      "cell_type": "code",
      "metadata": {
        "colab": {
          "base_uri": "https://localhost:8080/"
        },
        "id": "lATeri8-i_rN",
        "outputId": "2a1bf5c8-74ab-470d-8da8-970e948f22ff"
      },
      "source": [
        "b[-1]   #negative indexing - reverse order -1 to n"
      ],
      "execution_count": null,
      "outputs": [
        {
          "output_type": "execute_result",
          "data": {
            "text/plain": [
              "4"
            ]
          },
          "metadata": {
            "tags": []
          },
          "execution_count": 25
        }
      ]
    },
    {
      "cell_type": "code",
      "metadata": {
        "id": "QQ4EmsvMjNal"
      },
      "source": [
        ""
      ],
      "execution_count": null,
      "outputs": []
    },
    {
      "cell_type": "code",
      "metadata": {
        "colab": {
          "base_uri": "https://localhost:8080/"
        },
        "id": "a9cUDoXFjDSm",
        "outputId": "69011066-18e3-47b6-d283-97d66ce5ce51"
      },
      "source": [
        "b[1:2]"
      ],
      "execution_count": null,
      "outputs": [
        {
          "output_type": "execute_result",
          "data": {
            "text/plain": [
              "array([2])"
            ]
          },
          "metadata": {
            "tags": []
          },
          "execution_count": 26
        }
      ]
    },
    {
      "cell_type": "code",
      "metadata": {
        "colab": {
          "base_uri": "https://localhost:8080/"
        },
        "id": "xza_QL6VjY4a",
        "outputId": "c371ea2f-63e2-4cf3-9dc8-bbed58acd4d7"
      },
      "source": [
        "print(b[0:2])  # upper bound + 1\n"
      ],
      "execution_count": null,
      "outputs": [
        {
          "output_type": "stream",
          "text": [
            "[1 2]\n"
          ],
          "name": "stdout"
        }
      ]
    },
    {
      "cell_type": "code",
      "metadata": {
        "colab": {
          "base_uri": "https://localhost:8080/"
        },
        "id": "CnSA47zljs3J",
        "outputId": "06859989-9548-4f4f-dd64-5174e5bf4433"
      },
      "source": [
        "b[1:3] #print elts from 1st to 2nd elt"
      ],
      "execution_count": null,
      "outputs": [
        {
          "output_type": "execute_result",
          "data": {
            "text/plain": [
              "array([2, 3])"
            ]
          },
          "metadata": {
            "tags": []
          },
          "execution_count": 29
        }
      ]
    },
    {
      "cell_type": "code",
      "metadata": {
        "colab": {
          "base_uri": "https://localhost:8080/"
        },
        "id": "8IUFuelmj1_3",
        "outputId": "bee30dbc-a635-43c6-86d4-d376c4ac08bd"
      },
      "source": [
        "b[3] =10 #updating the values\n",
        "print(b)"
      ],
      "execution_count": null,
      "outputs": [
        {
          "output_type": "stream",
          "text": [
            "[ 1  2  3 10]\n"
          ],
          "name": "stdout"
        }
      ]
    },
    {
      "cell_type": "code",
      "metadata": {
        "colab": {
          "base_uri": "https://localhost:8080/"
        },
        "id": "C7pj8mQfkSH0",
        "outputId": "b54a3834-9ee5-4569-a04a-7e0b719185c0"
      },
      "source": [
        "print(b[2:]) #printing elts from 2nd index to last\n"
      ],
      "execution_count": null,
      "outputs": [
        {
          "output_type": "stream",
          "text": [
            "[ 3 10]\n"
          ],
          "name": "stdout"
        }
      ]
    },
    {
      "cell_type": "code",
      "metadata": {
        "colab": {
          "base_uri": "https://localhost:8080/"
        },
        "id": "7xiLomGQkash",
        "outputId": "1da22971-f2b4-4164-81b3-64cfdc21f24b"
      },
      "source": [
        "print(b[:2])"
      ],
      "execution_count": null,
      "outputs": [
        {
          "output_type": "stream",
          "text": [
            "[1 2]\n"
          ],
          "name": "stdout"
        }
      ]
    },
    {
      "cell_type": "code",
      "metadata": {
        "colab": {
          "base_uri": "https://localhost:8080/"
        },
        "id": "DN82VCOpkfRe",
        "outputId": "ce97a41b-2abf-4261-e548-6593f9c57c56"
      },
      "source": [
        "c=np.array([[1,2,3,4,5], \n",
        "            [6,7,8,9,10]])\n",
        "\n",
        "print(c[1])"
      ],
      "execution_count": null,
      "outputs": [
        {
          "output_type": "stream",
          "text": [
            "[ 6  7  8  9 10]\n"
          ],
          "name": "stdout"
        }
      ]
    },
    {
      "cell_type": "code",
      "metadata": {
        "id": "_RqegpZDkxE9"
      },
      "source": [
        ""
      ],
      "execution_count": null,
      "outputs": []
    },
    {
      "cell_type": "code",
      "metadata": {
        "colab": {
          "base_uri": "https://localhost:8080/"
        },
        "id": "EMrIX8fwkxTy",
        "outputId": "188c32c0-fc6c-4cfd-e144-2c31f1886f26"
      },
      "source": [
        "print(c[0])"
      ],
      "execution_count": null,
      "outputs": [
        {
          "output_type": "stream",
          "text": [
            "[1 2 3 4 5]\n"
          ],
          "name": "stdout"
        }
      ]
    },
    {
      "cell_type": "code",
      "metadata": {
        "colab": {
          "base_uri": "https://localhost:8080/"
        },
        "id": "gq6IZyLtk3KB",
        "outputId": "0ff816a9-efe8-4785-b85b-fc13df337ef1"
      },
      "source": [
        "print(c[1][3])"
      ],
      "execution_count": null,
      "outputs": [
        {
          "output_type": "stream",
          "text": [
            "9\n"
          ],
          "name": "stdout"
        }
      ]
    },
    {
      "cell_type": "code",
      "metadata": {
        "id": "jWqWvrculEPP"
      },
      "source": [
        ""
      ],
      "execution_count": null,
      "outputs": []
    },
    {
      "cell_type": "markdown",
      "metadata": {
        "id": "MCAbmxiplIOa"
      },
      "source": [
        "\n",
        "## *Pandas Library Impl"
      ]
    },
    {
      "cell_type": "code",
      "metadata": {
        "id": "aV6dnGjelSbX"
      },
      "source": [
        "#pandas is ##https://github.com/TVMSairam123  youtube - Tech 'N' Life\n",
        "## linkedInSairam Tadepalli\n",
        "\n",
        "\n",
        "import pandas as pd\n",
        "\n"
      ],
      "execution_count": null,
      "outputs": []
    }
  ]
}